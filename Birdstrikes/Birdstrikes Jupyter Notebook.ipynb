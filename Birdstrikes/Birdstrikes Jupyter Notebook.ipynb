{
 "cells": [
  {
   "cell_type": "markdown",
   "metadata": {},
   "source": [
    "# Birdstrikes Jupyter Notebook\n",
    "\n",
    "Data analysis on the Birdstrikes dataset in a Jupyter notebook."
   ]
  },
  {
   "cell_type": "code",
   "execution_count": 1,
   "metadata": {},
   "outputs": [],
   "source": [
    "# Load packages\n",
    "\n",
    "import pandas as pd\n",
    "import numpy as np\n",
    "import matplotlib.pyplot as plt\n",
    "import matplotlib\n",
    "%matplotlib inline\n",
    "import seaborn as sns\n",
    "from IPython.core.pylabtools import figsize"
   ]
  },
  {
   "cell_type": "code",
   "execution_count": 2,
   "metadata": {},
   "outputs": [
    {
     "name": "stderr",
     "output_type": "stream",
     "text": [
      "C:\\Users\\kszavuly\\AppData\\Local\\Temp\\ipykernel_4532\\4284076913.py:3: DtypeWarning: Columns (7,20,22) have mixed types. Specify dtype option on import or set low_memory=False.\n",
      "  db = pd.read_csv('c:/Users/kszavuly/OneDrive - Microsoft/C+E/Business Analytics/Sample Data/Birdstrikes.csv')\n"
     ]
    },
    {
     "data": {
      "text/html": [
       "<div>\n",
       "<style scoped>\n",
       "    .dataframe tbody tr th:only-of-type {\n",
       "        vertical-align: middle;\n",
       "    }\n",
       "\n",
       "    .dataframe tbody tr th {\n",
       "        vertical-align: top;\n",
       "    }\n",
       "\n",
       "    .dataframe thead th {\n",
       "        text-align: right;\n",
       "    }\n",
       "</style>\n",
       "<table border=\"1\" class=\"dataframe\">\n",
       "  <thead>\n",
       "    <tr style=\"text-align: right;\">\n",
       "      <th></th>\n",
       "      <th>Airport: Name</th>\n",
       "      <th>Altitude bin</th>\n",
       "      <th>Aircraft: Make/Model</th>\n",
       "      <th>Effect: Impact to flight</th>\n",
       "      <th>FlightDate</th>\n",
       "      <th>Record ID</th>\n",
       "      <th>Effect: Indicated Damage</th>\n",
       "      <th>Aircraft: Number of engines?</th>\n",
       "      <th>Aircraft: Airline/Operator</th>\n",
       "      <th>Origin State</th>\n",
       "      <th>...</th>\n",
       "      <th>When: Time (HHMM)</th>\n",
       "      <th>When: Time of day</th>\n",
       "      <th>Pilot warned of birds or wildlife?</th>\n",
       "      <th>Cost: Aircraft time out of service (hours)</th>\n",
       "      <th>Cost: Other (inflation adj)</th>\n",
       "      <th>Cost: Repair (inflation adj)</th>\n",
       "      <th>Cost: Total $</th>\n",
       "      <th>Miles from airport</th>\n",
       "      <th>Feet above ground</th>\n",
       "      <th>Speed (IAS) in knots</th>\n",
       "    </tr>\n",
       "  </thead>\n",
       "  <tbody>\n",
       "    <tr>\n",
       "      <th>0</th>\n",
       "      <td>DETROIT METRO WAYNE COUNTY ARPT</td>\n",
       "      <td>&lt; 1000 ft</td>\n",
       "      <td>A-319</td>\n",
       "      <td>NaN</td>\n",
       "      <td>1/1/2005 0:00</td>\n",
       "      <td>227413</td>\n",
       "      <td>No damage</td>\n",
       "      <td>2.0</td>\n",
       "      <td>NORTHWEST AIRLINES</td>\n",
       "      <td>Michigan</td>\n",
       "      <td>...</td>\n",
       "      <td>NaN</td>\n",
       "      <td>NaN</td>\n",
       "      <td>NaN</td>\n",
       "      <td>NaN</td>\n",
       "      <td>0</td>\n",
       "      <td>0</td>\n",
       "      <td>0</td>\n",
       "      <td>NaN</td>\n",
       "      <td>400</td>\n",
       "      <td>NaN</td>\n",
       "    </tr>\n",
       "    <tr>\n",
       "      <th>1</th>\n",
       "      <td>DANE COUNTY REGIONAL ARPT-TRUAX FLD</td>\n",
       "      <td>&lt; 1000 ft</td>\n",
       "      <td>A-320</td>\n",
       "      <td>NaN</td>\n",
       "      <td>1/1/2005 0:00</td>\n",
       "      <td>226578</td>\n",
       "      <td>No damage</td>\n",
       "      <td>2.0</td>\n",
       "      <td>NORTHWEST AIRLINES</td>\n",
       "      <td>Wisconsin</td>\n",
       "      <td>...</td>\n",
       "      <td>NaN</td>\n",
       "      <td>NaN</td>\n",
       "      <td>NaN</td>\n",
       "      <td>NaN</td>\n",
       "      <td>0</td>\n",
       "      <td>0</td>\n",
       "      <td>0</td>\n",
       "      <td>0.0</td>\n",
       "      <td>0</td>\n",
       "      <td>NaN</td>\n",
       "    </tr>\n",
       "    <tr>\n",
       "      <th>2</th>\n",
       "      <td>HOGUE ARPT</td>\n",
       "      <td>&lt; 1000 ft</td>\n",
       "      <td>PA-46 MALIBU</td>\n",
       "      <td>NaN</td>\n",
       "      <td>1/1/2005 0:00</td>\n",
       "      <td>268383</td>\n",
       "      <td>Caused damage</td>\n",
       "      <td>1.0</td>\n",
       "      <td>PRIVATELY OWNED</td>\n",
       "      <td>Tennessee</td>\n",
       "      <td>...</td>\n",
       "      <td>NaN</td>\n",
       "      <td>Day</td>\n",
       "      <td>NaN</td>\n",
       "      <td>NaN</td>\n",
       "      <td>0</td>\n",
       "      <td>0</td>\n",
       "      <td>0</td>\n",
       "      <td>0.0</td>\n",
       "      <td>0</td>\n",
       "      <td>20</td>\n",
       "    </tr>\n",
       "    <tr>\n",
       "      <th>3</th>\n",
       "      <td>SACRAMENTO INTL</td>\n",
       "      <td>&lt; 1000 ft</td>\n",
       "      <td>B-737-300</td>\n",
       "      <td>NaN</td>\n",
       "      <td>1/1/2005 0:00</td>\n",
       "      <td>229514</td>\n",
       "      <td>Caused damage</td>\n",
       "      <td>2.0</td>\n",
       "      <td>SOUTHWEST AIRLINES</td>\n",
       "      <td>California</td>\n",
       "      <td>...</td>\n",
       "      <td>2140.0</td>\n",
       "      <td>Night</td>\n",
       "      <td>Y</td>\n",
       "      <td>NaN</td>\n",
       "      <td>0</td>\n",
       "      <td>117,135</td>\n",
       "      <td>117,135</td>\n",
       "      <td>NaN</td>\n",
       "      <td>500</td>\n",
       "      <td>142</td>\n",
       "    </tr>\n",
       "    <tr>\n",
       "      <th>4</th>\n",
       "      <td>GUARULHOS INTL</td>\n",
       "      <td>&lt; 1000 ft</td>\n",
       "      <td>B-767-300</td>\n",
       "      <td>NaN</td>\n",
       "      <td>1/1/2005 0:00</td>\n",
       "      <td>225661</td>\n",
       "      <td>No damage</td>\n",
       "      <td>2.0</td>\n",
       "      <td>UNITED AIRLINES</td>\n",
       "      <td>NaN</td>\n",
       "      <td>...</td>\n",
       "      <td>NaN</td>\n",
       "      <td>NaN</td>\n",
       "      <td>NaN</td>\n",
       "      <td>NaN</td>\n",
       "      <td>0</td>\n",
       "      <td>0</td>\n",
       "      <td>0</td>\n",
       "      <td>0.0</td>\n",
       "      <td>0</td>\n",
       "      <td>NaN</td>\n",
       "    </tr>\n",
       "  </tbody>\n",
       "</table>\n",
       "<p>5 rows × 23 columns</p>\n",
       "</div>"
      ],
      "text/plain": [
       "                         Airport: Name Altitude bin Aircraft: Make/Model  \\\n",
       "0      DETROIT METRO WAYNE COUNTY ARPT    < 1000 ft                A-319   \n",
       "1  DANE COUNTY REGIONAL ARPT-TRUAX FLD    < 1000 ft                A-320   \n",
       "2                           HOGUE ARPT    < 1000 ft         PA-46 MALIBU   \n",
       "3                      SACRAMENTO INTL    < 1000 ft            B-737-300   \n",
       "4                       GUARULHOS INTL    < 1000 ft            B-767-300   \n",
       "\n",
       "  Effect: Impact to flight     FlightDate  Record ID Effect: Indicated Damage  \\\n",
       "0                      NaN  1/1/2005 0:00     227413                No damage   \n",
       "1                      NaN  1/1/2005 0:00     226578                No damage   \n",
       "2                      NaN  1/1/2005 0:00     268383            Caused damage   \n",
       "3                      NaN  1/1/2005 0:00     229514            Caused damage   \n",
       "4                      NaN  1/1/2005 0:00     225661                No damage   \n",
       "\n",
       "  Aircraft: Number of engines? Aircraft: Airline/Operator Origin State  ...  \\\n",
       "0                          2.0         NORTHWEST AIRLINES     Michigan  ...   \n",
       "1                          2.0         NORTHWEST AIRLINES    Wisconsin  ...   \n",
       "2                          1.0            PRIVATELY OWNED    Tennessee  ...   \n",
       "3                          2.0         SOUTHWEST AIRLINES   California  ...   \n",
       "4                          2.0            UNITED AIRLINES          NaN  ...   \n",
       "\n",
       "  When: Time (HHMM) When: Time of day Pilot warned of birds or wildlife?  \\\n",
       "0               NaN               NaN                                NaN   \n",
       "1               NaN               NaN                                NaN   \n",
       "2               NaN               Day                                NaN   \n",
       "3            2140.0             Night                                  Y   \n",
       "4               NaN               NaN                                NaN   \n",
       "\n",
       "   Cost: Aircraft time out of service (hours) Cost: Other (inflation adj)  \\\n",
       "0                                         NaN                           0   \n",
       "1                                         NaN                           0   \n",
       "2                                         NaN                           0   \n",
       "3                                         NaN                           0   \n",
       "4                                         NaN                           0   \n",
       "\n",
       "  Cost: Repair (inflation adj) Cost: Total $ Miles from airport  \\\n",
       "0                            0             0                NaN   \n",
       "1                            0             0                0.0   \n",
       "2                            0             0                0.0   \n",
       "3                      117,135       117,135                NaN   \n",
       "4                            0             0                0.0   \n",
       "\n",
       "  Feet above ground Speed (IAS) in knots  \n",
       "0               400                  NaN  \n",
       "1                 0                  NaN  \n",
       "2                 0                   20  \n",
       "3               500                  142  \n",
       "4                 0                  NaN  \n",
       "\n",
       "[5 rows x 23 columns]"
      ]
     },
     "execution_count": 2,
     "metadata": {},
     "output_type": "execute_result"
    }
   ],
   "source": [
    "# Import database and show head\n",
    "\n",
    "db = pd.read_csv('c:/Users/kszavuly/OneDrive - Microsoft/C+E/Business Analytics/Sample Data/Birdstrikes.csv')\n",
    "db.head()"
   ]
  },
  {
   "cell_type": "code",
   "execution_count": 3,
   "metadata": {},
   "outputs": [
    {
     "name": "stdout",
     "output_type": "stream",
     "text": [
      "30541\n"
     ]
    }
   ],
   "source": [
    "FeetAboveGroundNanCount = db['Feet above ground'].isna().sum()\n",
    "print(FeetAboveGroundNanCount)"
   ]
  },
  {
   "cell_type": "code",
   "execution_count": 7,
   "metadata": {},
   "outputs": [
    {
     "data": {
      "text/plain": [
       "count     35069\n",
       "unique      329\n",
       "top           0\n",
       "freq      14184\n",
       "Name: Feet above ground, dtype: object"
      ]
     },
     "execution_count": 7,
     "metadata": {},
     "output_type": "execute_result"
    }
   ],
   "source": [
    "db = db[db['Feet above ground'].notna()]\n",
    "db['Feet above ground'].describe()"
   ]
  },
  {
   "cell_type": "code",
   "execution_count": 12,
   "metadata": {},
   "outputs": [
    {
     "data": {
      "image/png": "[encoded data removed]",
      "text/plain": [
       "<Figure size 640x480 with 1 Axes>"
      ]
     },
     "metadata": {},
     "output_type": "display_data"
    }
   ],
   "source": [
    "# Histogram\n",
    "\n",
    "plt.hist(db['Feet above ground'], color = 'skyblue', edgecolor = 'black',\n",
    "         bins = int(50))\n",
    "plt.title('Histogram of Birdstrikes Height in Feet Above Ground')\n",
    "plt.xlabel('Height'); plt.ylabel('Cases');"
   ]
  }
 ],
 "metadata": {
  "kernelspec": {
   "display_name": "base",
   "language": "python",
   "name": "python3"
  },
  "language_info": {
   "codemirror_mode": {
    "name": "ipython",
    "version": 3
   },
   "file_extension": ".py",
   "mimetype": "text/x-python",
   "name": "python",
   "nbconvert_exporter": "python",
   "pygments_lexer": "ipython3",
   "version": "3.11.7"
  }
 },
 "nbformat": 4,
 "nbformat_minor": 2
}
